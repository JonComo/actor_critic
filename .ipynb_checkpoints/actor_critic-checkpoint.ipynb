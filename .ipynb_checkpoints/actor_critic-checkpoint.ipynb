{
 "cells": [
  {
   "cell_type": "code",
   "execution_count": 1,
   "metadata": {
    "collapsed": true
   },
   "outputs": [],
   "source": [
    "# Actor - policy improvements through parameters t\n",
    "# Critic - q value approximation through parameters w\n",
    "# Bellman - v value approximation through parameters h as sanity check"
   ]
  },
  {
   "cell_type": "code",
   "execution_count": 2,
   "metadata": {
    "collapsed": true
   },
   "outputs": [],
   "source": [
    "%matplotlib inline"
   ]
  },
  {
   "cell_type": "code",
   "execution_count": 3,
   "metadata": {
    "collapsed": true
   },
   "outputs": [],
   "source": [
    "from matplotlib import pyplot as plt\n",
    "import numpy as np\n",
    "from ipywidgets import interact\n",
    "from IPython.display import clear_output"
   ]
  },
  {
   "cell_type": "code",
   "execution_count": 107,
   "metadata": {
    "collapsed": true
   },
   "outputs": [],
   "source": [
    "S = 6\n",
    "A = 2\n",
    "\n",
    "# Link rewards\n",
    "R = np.zeros([S, S])\n",
    "R[3, 2] = 1\n",
    "R[1, 0] = 1\n",
    "R[4, 5] = 1\n",
    "\n",
    "# hyperparams\n",
    "gamma = 0.8"
   ]
  },
  {
   "cell_type": "code",
   "execution_count": 142,
   "metadata": {
    "collapsed": false
   },
   "outputs": [],
   "source": [
    "def perform_action(s, a):\n",
    "    sp = s + (a * 2 - 1)\n",
    "    if sp < 0:\n",
    "        sp = 0\n",
    "    if sp > S-1:\n",
    "        sp = S-1\n",
    "    return sp\n",
    "\n",
    "def reward(s, a):\n",
    "    sp = perform_action(s, a)\n",
    "    return R[s, sp]\n",
    "\n",
    "def features_s(s):\n",
    "    f = np.zeros([S])\n",
    "    f[s] = 1\n",
    "    return f\n",
    "\n",
    "def features(s, a):\n",
    "    f = np.zeros([S, A])\n",
    "    f[s, a] = 1.0\n",
    "    return f\n",
    "\n",
    "def exp_f_t(s, a, t):\n",
    "    f = features(s, a)\n",
    "    return np.exp(np.sum(f * t))\n",
    "\n",
    "def policy(s, a, t):\n",
    "    total = np.sum([exp_f_t(s, aa, t) for aa in range(A)])\n",
    "    return exp_f_t(s, a, t) / total\n",
    "\n",
    "def transition_prob(s, sp, t):\n",
    "    if abs(s-sp) > 1:\n",
    "        return 0\n",
    "    for aa in range(A):\n",
    "        s_test = perform_action(s, aa)\n",
    "        if s_test == sp:\n",
    "            return policy(s, aa, t)\n",
    "    return 0.0\n",
    "\n",
    "def v_approx(s, h):\n",
    "    f = features_s(s)\n",
    "    v = np.sum(f * h)\n",
    "    return v\n",
    "\n",
    "def q_approx(s, a, t):\n",
    "    f = features(s, a)\n",
    "    q = np.sum(f * t)\n",
    "    return q\n",
    "\n",
    "def random_variable(shape):\n",
    "    return np.random.random_sample(shape)\n",
    "\n",
    "def transition_matrix(t):\n",
    "    return np.array([[transition_prob(si, sj, t) for sj in range(S)] for si in range(S)])\n",
    "\n",
    "def visualize_q():\n",
    "    q_left = [q_approx(ss, 0, t) for ss in range(S)]\n",
    "    q_right = [q_approx(ss, 1, t) for ss in range(S)]\n",
    "\n",
    "    fig = plt.plot(range(S), q_left, 'b--', range(S), q_right, 'r--')\n",
    "    plt.grid()\n",
    "    \n",
    "def visualize_policy():\n",
    "    p_left = [policy(ss, 0, t) for ss in range(S)]\n",
    "    p_right = [policy(ss, 1, t) for ss in range(S)]\n",
    "\n",
    "    fig = plt.plot(range(S), p_left, 'b-', range(S), p_right, 'r-')\n",
    "    plt.grid()\n",
    "    \n",
    "# Objective function\n",
    "def J(t):\n",
    "    # calculate probability of being in a given state\n",
    "    T = transition_matrix(t)\n",
    "    T = T.dot(T.dot(T.dot(T.dot(T))))\n",
    "    \n",
    "    start_p = np.full([S], 1.0/S)\n",
    "    \n",
    "    d = T.dot(start_p)\n",
    "    \n",
    "    expected_r = 0.0\n",
    "    for ss in range(S):\n",
    "        for aa in range(A):\n",
    "            expected_r += d[ss] * policy(ss, aa, t) * q_approx(ss, aa, t)\n",
    "            \n",
    "    return expected_r"
   ]
  },
  {
   "cell_type": "code",
   "execution_count": 143,
   "metadata": {
    "collapsed": false
   },
   "outputs": [
    {
     "name": "stdout",
     "output_type": "stream",
     "text": [
      "T matrix:\n",
      "\n",
      "[[ 0.58661176  0.41338824  0.          0.          0.          0.        ]\n",
      " [ 0.34189516  0.          0.65810484  0.          0.          0.        ]\n",
      " [ 0.          0.688935    0.          0.311065    0.          0.        ]\n",
      " [ 0.          0.          0.70391634  0.          0.29608366  0.        ]\n",
      " [ 0.          0.          0.          0.3644291   0.          0.6355709 ]\n",
      " [ 0.          0.          0.          0.          0.50962655  0.49037345]]\n",
      "\n",
      "T matrix sum over columns: [ 1.  1.  1.  1.  1.  1.]\n",
      "\n",
      "node rewards: [ 0.          0.34189516  0.          0.70391634  0.6355709   0.        ]\n",
      "\n",
      "bellman values with current policy: [ 0.65  1.04  0.99  1.66  1.7   1.14]\n"
     ]
    }
   ],
   "source": [
    "# Solve for bellman values v, compare with v_approx\n",
    "\n",
    "# Random policy params t\n",
    "\n",
    "t = random_variable([S, A])\n",
    "\n",
    "# Transition matrix\n",
    "T = transition_matrix(t)\n",
    "\n",
    "print('T matrix:\\n\\n{}'.format(T))\n",
    "print('\\nT matrix sum over columns: {}'.format(np.sum(T, axis=1)))\n",
    "\n",
    "# Convert link rewards into node rewards\n",
    "node_R = np.array([np.sum([R[ss, sp] * T[ss, sp] for sp in range(S)]) for ss in range(S)])\n",
    "print('\\nnode rewards: {}'.format(node_R))\n",
    "\n",
    "bellman_v = np.linalg.inv((np.identity(S) - gamma * T)).dot(node_R.T)\n",
    "print('\\nbellman values with current policy: {}'.format(np.round(bellman_v, 2)))"
   ]
  },
  {
   "cell_type": "code",
   "execution_count": 144,
   "metadata": {
    "collapsed": true
   },
   "outputs": [],
   "source": [
    "# Approximate bellman values using current policy\n",
    "\n",
    "# Parameters for value function approximation\n",
    "h = random_variable([S])"
   ]
  },
  {
   "cell_type": "code",
   "execution_count": 145,
   "metadata": {
    "collapsed": false
   },
   "outputs": [
    {
     "name": "stdout",
     "output_type": "stream",
     "text": [
      "approximate v: [0.32681917698996077, 0.67474852018027687, 0.59847872855518958, 1.1239390359134707, 1.1869131169643359, 0.6761370205196956]\n"
     ]
    },
    {
     "data": {
      "image/png": "[encoded data removed]",
      "text/plain": [
       "<matplotlib.figure.Figure at 0x10f09a4a8>"
      ]
     },
     "metadata": {},
     "output_type": "display_data"
    }
   ],
   "source": [
    "# Run steps to approx bellman values\n",
    "\n",
    "for run in range(100):\n",
    "    s = np.random.randint(S)\n",
    "    \n",
    "    for step in range(20):\n",
    "        #a = np.random.choice(range(A), p=[policy(s, aa, t) for aa in range(A)])\n",
    "        \n",
    "        sp = np.random.choice(range(S), p=T[s])\n",
    "        \n",
    "        r = node_R[s]\n",
    "        \n",
    "        delta = (r + gamma * v_approx(sp, h)) - v_approx(s, h)\n",
    "\n",
    "        h_grad = delta * features_s(s)\n",
    "        h += 0.01 * h_grad\n",
    "\n",
    "        s = sp\n",
    "    \n",
    "test_v = [v_approx(ss, h) for ss in range(S)]\n",
    "print('approximate v: {}'.format(test_v))\n",
    "\n",
    "fig = plt.plot(range(S), test_v, 'r-', range(S), bellman_v, 'b-')\n",
    "plt.grid()"
   ]
  },
  {
   "cell_type": "code",
   "execution_count": 146,
   "metadata": {
    "collapsed": false
   },
   "outputs": [],
   "source": [
    "# initialize parameters for q value func approx and policy approx\n",
    "\n",
    "t = random_variable([S, A])\n",
    "w = random_variable([S, A])\n",
    "\n",
    "objective_steps = []"
   ]
  },
  {
   "cell_type": "code",
   "execution_count": 152,
   "metadata": {
    "collapsed": false
   },
   "outputs": [
    {
     "data": {
      "image/png": "[encoded data removed]",
      "text/plain": [
       "<matplotlib.figure.Figure at 0x10f8c5f28>"
      ]
     },
     "metadata": {},
     "output_type": "display_data"
    }
   ],
   "source": [
    "for run in range(40):\n",
    "    s = np.random.randint(S)\n",
    "    a = np.random.choice(range(A), p=[policy(s, aa, t) for aa in range(A)])\n",
    "    \n",
    "    for step in range(20):\n",
    "        r = reward(s, a)\n",
    "        sp = perform_action(s, a)\n",
    "\n",
    "        ap = np.random.choice(range(A), p=[policy(sp, aa, t) for aa in range(A)])\n",
    "\n",
    "        delta = r + gamma * q_approx(sp, ap, w) - q_approx(s, a, w)\n",
    "\n",
    "        # Calculate t gradient\n",
    "        expected_features = np.zeros([S, A])\n",
    "        for aa in range(A):\n",
    "            expected_features += policy(s, aa, t) * features(s, aa)\n",
    "\n",
    "        t_grad = features(s, a) - expected_features\n",
    "\n",
    "        t = t + 0.1 * t_grad * q_approx(s, a, w)\n",
    "\n",
    "        w = w + 0.1 * delta * features(s, a)\n",
    "\n",
    "        a = ap\n",
    "        s = sp\n",
    "        \n",
    "        objective_steps.append(J(t))\n",
    "\n",
    "        if step % 10 == 0:\n",
    "            clear_output(wait=True)\n",
    "            #visualize_q()\n",
    "            #visualize_policy()\n",
    "            plt.plot(objective_steps)\n",
    "            plt.show()"
   ]
  },
  {
   "cell_type": "code",
   "execution_count": 141,
   "metadata": {
    "collapsed": false
   },
   "outputs": [
    {
     "name": "stdout",
     "output_type": "stream",
     "text": [
      "0\n",
      "1\n",
      "Reward!\n",
      "0\n",
      "1\n",
      "Reward!\n",
      "0\n",
      "1\n",
      "Reward!\n",
      "0\n",
      "1\n",
      "Reward!\n",
      "0\n",
      "1\n",
      "Reward!\n",
      "0\n",
      "1\n",
      "Reward!\n",
      "0\n",
      "1\n",
      "Reward!\n",
      "0\n",
      "1\n",
      "Reward!\n",
      "0\n",
      "1\n",
      "Reward!\n",
      "0\n",
      "1\n",
      "Reward!\n"
     ]
    }
   ],
   "source": [
    "# Typical path\n",
    "\n",
    "s = 0\n",
    "a = np.random.choice(range(A), p=[policy(s, aa, t) for aa in range(A)])\n",
    "\n",
    "for step in range(20):\n",
    "    \n",
    "    print(s)\n",
    "    \n",
    "    r = reward(s, a)\n",
    "    \n",
    "    if r:\n",
    "        print('Reward!')\n",
    "    \n",
    "    sp = perform_action(s, a)\n",
    "    \n",
    "    ap = np.random.choice(range(A), p=[policy(sp, aa, t) for aa in range(A)])\n",
    "    \n",
    "    a = ap\n",
    "    s = sp"
   ]
  },
  {
   "cell_type": "code",
   "execution_count": 17,
   "metadata": {
    "collapsed": false
   },
   "outputs": [
    {
     "data": {
      "text/plain": [
       "array([[ 0.35,  0.65,  0.  ,  0.  ,  0.  ,  0.  ],\n",
       "       [ 0.19,  0.  ,  0.81,  0.  ,  0.  ,  0.  ],\n",
       "       [ 0.  ,  0.02,  0.  ,  0.98,  0.  ,  0.  ],\n",
       "       [ 0.  ,  0.  ,  0.96,  0.  ,  0.04,  0.  ],\n",
       "       [ 0.  ,  0.  ,  0.  ,  0.76,  0.  ,  0.24],\n",
       "       [ 0.  ,  0.  ,  0.  ,  0.  ,  0.36,  0.64]])"
      ]
     },
     "execution_count": 17,
     "metadata": {},
     "output_type": "execute_result"
    }
   ],
   "source": [
    "np.round(transition_matrix(t), 2)"
   ]
  },
  {
   "cell_type": "code",
   "execution_count": null,
   "metadata": {
    "collapsed": true
   },
   "outputs": [],
   "source": []
  },
  {
   "cell_type": "code",
   "execution_count": null,
   "metadata": {
    "collapsed": true
   },
   "outputs": [],
   "source": []
  },
  {
   "cell_type": "code",
   "execution_count": null,
   "metadata": {
    "collapsed": true
   },
   "outputs": [],
   "source": []
  },
  {
   "cell_type": "code",
   "execution_count": null,
   "metadata": {
    "collapsed": true
   },
   "outputs": [],
   "source": []
  },
  {
   "cell_type": "code",
   "execution_count": null,
   "metadata": {
    "collapsed": true
   },
   "outputs": [],
   "source": []
  },
  {
   "cell_type": "code",
   "execution_count": null,
   "metadata": {
    "collapsed": true
   },
   "outputs": [],
   "source": []
  },
  {
   "cell_type": "code",
   "execution_count": null,
   "metadata": {
    "collapsed": true
   },
   "outputs": [],
   "source": []
  },
  {
   "cell_type": "code",
   "execution_count": null,
   "metadata": {
    "collapsed": true
   },
   "outputs": [],
   "source": []
  },
  {
   "cell_type": "code",
   "execution_count": null,
   "metadata": {
    "collapsed": true
   },
   "outputs": [],
   "source": []
  },
  {
   "cell_type": "code",
   "execution_count": null,
   "metadata": {
    "collapsed": true
   },
   "outputs": [],
   "source": []
  },
  {
   "cell_type": "code",
   "execution_count": null,
   "metadata": {
    "collapsed": true
   },
   "outputs": [],
   "source": []
  },
  {
   "cell_type": "code",
   "execution_count": null,
   "metadata": {
    "collapsed": true
   },
   "outputs": [],
   "source": []
  },
  {
   "cell_type": "code",
   "execution_count": null,
   "metadata": {
    "collapsed": true
   },
   "outputs": [],
   "source": []
  },
  {
   "cell_type": "code",
   "execution_count": null,
   "metadata": {
    "collapsed": true
   },
   "outputs": [],
   "source": []
  },
  {
   "cell_type": "code",
   "execution_count": null,
   "metadata": {
    "collapsed": true
   },
   "outputs": [],
   "source": []
  },
  {
   "cell_type": "code",
   "execution_count": null,
   "metadata": {
    "collapsed": true
   },
   "outputs": [],
   "source": []
  },
  {
   "cell_type": "code",
   "execution_count": null,
   "metadata": {
    "collapsed": true
   },
   "outputs": [],
   "source": []
  }
 ],
 "metadata": {
  "kernelspec": {
   "display_name": "Python 3",
   "language": "python",
   "name": "python3"
  },
  "language_info": {
   "codemirror_mode": {
    "name": "ipython",
    "version": 3
   },
   "file_extension": ".py",
   "mimetype": "text/x-python",
   "name": "python",
   "nbconvert_exporter": "python",
   "pygments_lexer": "ipython3",
   "version": "3.4.4"
  }
 },
 "nbformat": 4,
 "nbformat_minor": 0
}
