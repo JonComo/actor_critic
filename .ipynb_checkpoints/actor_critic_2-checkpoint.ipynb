{
 "cells": [
  {
   "cell_type": "code",
   "execution_count": 1,
   "metadata": {
    "collapsed": true
   },
   "outputs": [],
   "source": [
    "%matplotlib inline"
   ]
  },
  {
   "cell_type": "code",
   "execution_count": 2,
   "metadata": {
    "collapsed": true
   },
   "outputs": [],
   "source": [
    "from matplotlib import pyplot as plt\n",
    "import numpy as np\n",
    "from IPython.display import clear_output"
   ]
  },
  {
   "cell_type": "code",
   "execution_count": 3,
   "metadata": {
    "collapsed": true
   },
   "outputs": [],
   "source": [
    "# picture:\n",
    "# 3 - 4 - 5 - 6 - 7\n",
    "# 0       1       2\n",
    "\n",
    "# reward at 6->2, death or punishment at 4->1 and 8->3\n",
    "\n",
    "# phi(s, a) -> states x actions matrix"
   ]
  },
  {
   "cell_type": "code",
   "execution_count": 4,
   "metadata": {
    "collapsed": false
   },
   "outputs": [],
   "source": [
    "STATES = 8\n",
    "ACTIONS = 4\n",
    "\n",
    "# link rewards\n",
    "LR = np.zeros([STATES, STATES])\n",
    "LR[5, 1] = 1.0\n",
    "LR[3, 0] = -1.0\n",
    "LR[6, 2] = -1.0\n",
    "\n",
    "# s -> sp by applying action a\n",
    "U = 0 # up\n",
    "D = 1 # down\n",
    "L = 2 # left\n",
    "R = 3 # right\n",
    "\n",
    "S = np.zeros([STATES, ACTIONS], dtype=np.int32)\n",
    "for s in range(STATES):\n",
    "    S[s, :] = s\n",
    "S[0, U] = 3\n",
    "\n",
    "S[1, U] = 5\n",
    "\n",
    "S[2, U] = 7\n",
    "\n",
    "S[3, D] = 0\n",
    "S[3, R] = 4\n",
    "\n",
    "S[4, L] = 3\n",
    "S[4, R] = 5\n",
    "\n",
    "S[5, L] = 4\n",
    "S[5, R] = 6\n",
    "S[5, D] = 1\n",
    "\n",
    "S[6, L] = 5\n",
    "S[6, R] = 7\n",
    "\n",
    "S[7, L] = 6\n",
    "S[7, D] = 2\n",
    "\n",
    "# init params\n",
    "theta = np.random.random_sample([STATES, ACTIONS])\n",
    "w = np.random.random_sample([STATES, ACTIONS])\n",
    "\n",
    "# learning rates\n",
    "alpha = 0.1\n",
    "beta = 0.1\n",
    "\n",
    "# dicount factor\n",
    "gamma = 0.8\n",
    "\n",
    "def phi(s, a):\n",
    "    z = np.zeros([STATES, ACTIONS])\n",
    "    if s == 6:\n",
    "        s = 4\n",
    "    z[s, a] = 1\n",
    "    return z\n",
    "\n",
    "def theta_dot_phi(s, a):\n",
    "    return np.sum(np.multiply(phi(s, a), theta))\n",
    "\n",
    "def policy(s, a):\n",
    "    return np.exp(theta_dot_phi(s, a)) / np.sum(np.exp([theta_dot_phi(s, aa) for aa in range(ACTIONS)]))\n",
    "\n",
    "def phi_min_exp_phi(s, a):\n",
    "    return phi(s, a) - np.sum([policy(s, aa) * phi(s, aa) for aa in range(ACTIONS)], axis=0)\n",
    "\n",
    "def q(s, a):\n",
    "    return np.sum(np.multiply(w, phi(s, a)))"
   ]
  },
  {
   "cell_type": "code",
   "execution_count": 6,
   "metadata": {
    "collapsed": false
   },
   "outputs": [
    {
     "data": {
      "image/png": "[encoded data removed]",
      "text/plain": [
       "<matplotlib.figure.Figure at 0x7f6ba8daf9d0>"
      ]
     },
     "metadata": {},
     "output_type": "display_data"
    }
   ],
   "source": [
    "for episode in range(100):\n",
    "    \n",
    "    s = np.random.randint(STATES)\n",
    "    a = np.random.choice(range(ACTIONS), p=np.array([policy(s, aa) for aa in range(ACTIONS)]))\n",
    "    \n",
    "    path = []\n",
    "    \n",
    "    for i in range(30):\n",
    "        \n",
    "        path.append(s)\n",
    "        \n",
    "        sp = S[s, a]\n",
    "        ap = np.random.choice(range(ACTIONS), p=[policy(sp, aa) for aa in range(ACTIONS)])\n",
    "        \n",
    "        r = LR[s, sp]\n",
    "        \n",
    "        delta = r + gamma * q(sp, ap) - q(s, a)\n",
    "        \n",
    "        # update parameters\n",
    "        theta = theta + alpha * phi_min_exp_phi(s, a) * q(s, a)\n",
    "        w = w + beta * delta * phi(s, a)\n",
    "        \n",
    "        s = sp\n",
    "        a = ap\n",
    "        \n",
    "    clear_output(wait=True)\n",
    "    #print(' '.join(map(str, path)))\n",
    "    v = np.sum([[policy(ss, aa)*q(ss, aa) for aa in range(ACTIONS)] for ss in range(STATES)], axis=1)\n",
    "    #print(''.join(['{}: v = {}\\n'.format(s, v[s]) for s in range(STATES)]))\n",
    "\n",
    "    f = plt.plot(v)\n",
    "    plt.show()\n",
    "    \n",
    "# 3 - 4 - 5 - 6 - 7\n",
    "# 0       1       2"
   ]
  },
  {
   "cell_type": "code",
   "execution_count": 7,
   "metadata": {
    "collapsed": false
   },
   "outputs": [
    {
     "name": "stdout",
     "output_type": "stream",
     "text": [
      "0: v = 0.237954639298\n",
      "1: v = 2.16909556744\n",
      "2: v = 0.317183856999\n",
      "3: v = 0.912975988574\n",
      "4: v = 1.51397010343\n",
      "5: v = 2.72478119868\n",
      "6: v = 1.51397010343\n",
      "7: v = 1.05462215791\n",
      "\n"
     ]
    },
    {
     "data": {
      "image/png": "[encoded data removed]",
      "text/plain": [
       "<matplotlib.figure.Figure at 0x7f6bcc2ea4d0>"
      ]
     },
     "metadata": {},
     "output_type": "display_data"
    }
   ],
   "source": [
    "# 3 - 4 - 5 - 6 - 7\n",
    "# 0       1       2\n",
    "\n",
    "# State values\n",
    "v = np.sum([[policy(ss, aa)*q(ss, aa) for aa in range(ACTIONS)] for ss in range(STATES)], axis=1)\n",
    "print(''.join(['{}: v = {}\\n'.format(s, v[s]) for s in range(STATES)]))\n",
    "\n",
    "f = plt.plot(v)"
   ]
  },
  {
   "cell_type": "code",
   "execution_count": 10,
   "metadata": {
    "collapsed": false
   },
   "outputs": [
    {
     "data": {
      "image/png": "[encoded data removed]",
      "text/plain": [
       "<matplotlib.figure.Figure at 0x7f6ba8f8b090>"
      ]
     },
     "metadata": {},
     "output_type": "display_data"
    }
   ],
   "source": [
    "vis_policy = np.array([[policy(ss, aa) for aa in range(ACTIONS)] for ss in range(STATES)])\n",
    "f = plt.plot(range(STATES), vis_policy[:,L])"
   ]
  },
  {
   "cell_type": "code",
   "execution_count": 148,
   "metadata": {
    "collapsed": false
   },
   "outputs": [
    {
     "data": {
      "text/plain": [
       "0.01230701556575536"
      ]
     },
     "execution_count": 148,
     "metadata": {},
     "output_type": "execute_result"
    }
   ],
   "source": [
    "policy(7, D)"
   ]
  },
  {
   "cell_type": "code",
   "execution_count": null,
   "metadata": {
    "collapsed": true
   },
   "outputs": [],
   "source": []
  }
 ],
 "metadata": {
  "kernelspec": {
   "display_name": "Python 2",
   "language": "python",
   "name": "python2"
  },
  "language_info": {
   "codemirror_mode": {
    "name": "ipython",
    "version": 2
   },
   "file_extension": ".py",
   "mimetype": "text/x-python",
   "name": "python",
   "nbconvert_exporter": "python",
   "pygments_lexer": "ipython2",
   "version": "2.7.11"
  }
 },
 "nbformat": 4,
 "nbformat_minor": 0
}
