{
 "cells": [
  {
   "cell_type": "code",
   "execution_count": 1,
   "metadata": {
    "collapsed": false
   },
   "outputs": [
    {
     "name": "stderr",
     "output_type": "stream",
     "text": [
      "/Users/joncomo/miniconda2/envs/py27/lib/python2.7/site-packages/matplotlib/font_manager.py:273: UserWarning: Matplotlib is building the font cache using fc-list. This may take a moment.\n",
      "  warnings.warn('Matplotlib is building the font cache using fc-list. This may take a moment.')\n"
     ]
    }
   ],
   "source": [
    "%matplotlib inline"
   ]
  },
  {
   "cell_type": "code",
   "execution_count": 2,
   "metadata": {
    "collapsed": true
   },
   "outputs": [],
   "source": [
    "from matplotlib import pyplot as plt\n",
    "import numpy as np\n",
    "from IPython.display import clear_output"
   ]
  },
  {
   "cell_type": "code",
   "execution_count": 3,
   "metadata": {
    "collapsed": true
   },
   "outputs": [],
   "source": [
    "# picture:\n",
    "# 3 - 4 - 5 - 6 - 7\n",
    "# 0       1       2\n",
    "\n",
    "# reward at 5->1, death or punishment at 3->0 and 7->2\n",
    "\n",
    "# phi(s, a) -> [states x actions] matrix"
   ]
  },
  {
   "cell_type": "code",
   "execution_count": 4,
   "metadata": {
    "collapsed": false
   },
   "outputs": [],
   "source": [
    "STATES = 8\n",
    "ACTIONS = 4\n",
    "\n",
    "A_RANGE = range(ACTIONS)\n",
    "S_RANGE = range(STATES)\n",
    "\n",
    "# link rewards\n",
    "LR = np.zeros([STATES, STATES])\n",
    "LR[5, 1] = 1.0\n",
    "LR[3, 0] = -1.0\n",
    "LR[7, 2] = -1.0\n",
    "\n",
    "# s -> sp by applying action a\n",
    "U = 0 # up\n",
    "D = 1 # down\n",
    "L = 2 # left\n",
    "R = 3 # right\n",
    "\n",
    "S = np.zeros([STATES, ACTIONS], dtype=np.int32)\n",
    "for s in S_RANGE:\n",
    "    S[s, :] = s\n",
    "S[0, U] = 3\n",
    "\n",
    "S[1, U] = 5\n",
    "\n",
    "S[2, U] = 7\n",
    "\n",
    "S[3, D] = 0\n",
    "S[3, R] = 4\n",
    "\n",
    "S[4, L] = 3\n",
    "S[4, R] = 5\n",
    "\n",
    "S[5, L] = 4\n",
    "S[5, R] = 6\n",
    "S[5, D] = 1\n",
    "\n",
    "S[6, L] = 5\n",
    "S[6, R] = 7\n",
    "\n",
    "S[7, L] = 6\n",
    "S[7, D] = 2\n",
    "\n",
    "# init params\n",
    "theta = np.random.random_sample([STATES, ACTIONS])\n",
    "w = np.random.random_sample([STATES, ACTIONS])\n",
    "\n",
    "# dicount factor\n",
    "gamma = 0.8\n",
    "\n",
    "def phi(s, a):\n",
    "    z = np.zeros([STATES, ACTIONS])\n",
    "    if s == 6:\n",
    "        s = 4\n",
    "    if s == 1:\n",
    "        s = 0\n",
    "    if s == 2:\n",
    "        s = 0\n",
    "    z[s, a] = 1\n",
    "    return z\n",
    "\n",
    "def theta_dot_phi(s, a):\n",
    "    return np.sum(np.multiply(phi(s, a), theta))\n",
    "\n",
    "def policy(s, a):\n",
    "    return np.exp(theta_dot_phi(s, a)) / np.sum(np.exp([theta_dot_phi(s, aa) for aa in A_RANGE]))\n",
    "\n",
    "def expected_phi(s):\n",
    "    return np.sum([policy(s, aa) * phi(s, aa) for aa in A_RANGE], axis=0)\n",
    "\n",
    "def phi_min_exp_phi(s, a):\n",
    "    return phi(s, a) - expected_phi(s)\n",
    "\n",
    "def q(s, a):\n",
    "    return np.sum(np.multiply(w, phi(s, a)))"
   ]
  },
  {
   "cell_type": "code",
   "execution_count": 9,
   "metadata": {
    "collapsed": false
   },
   "outputs": [
    {
     "data": {
      "image/png": "[encoded data removed]",
      "text/plain": [
       "<matplotlib.figure.Figure at 0x10ef0f450>"
      ]
     },
     "metadata": {},
     "output_type": "display_data"
    }
   ],
   "source": [
    "# learning rates\n",
    "alpha = 0.01\n",
    "beta = 0.01\n",
    "\n",
    "for episode in range(1000):\n",
    "    \n",
    "    s = np.random.randint(STATES)\n",
    "    a = np.random.choice(A_RANGE, p=np.array([policy(s, aa) for aa in A_RANGE]))\n",
    "    \n",
    "    #path = []\n",
    "    \n",
    "    for i in range(50):\n",
    "        \n",
    "        #path.append(s)\n",
    "        \n",
    "        sp = S[s, a]\n",
    "        if sp == s:\n",
    "            continue # nothing changes if s transitions to itself\n",
    "            \n",
    "        ap = np.random.choice(A_RANGE, p=[policy(sp, aa) for aa in A_RANGE])\n",
    "        \n",
    "        r = LR[s, sp]\n",
    "        \n",
    "        delta = r + gamma * q(sp, ap) - q(s, a)\n",
    "        \n",
    "        # update parameters\n",
    "        theta = theta + alpha * phi_min_exp_phi(s, a) * q(s, a)\n",
    "        w = w + beta * delta * phi(s, a)\n",
    "        \n",
    "        s = sp\n",
    "        a = ap\n",
    "        \n",
    "    if episode % 100 == 0:\n",
    "        #print(\"episode: {}\".format(episode))\n",
    "        clear_output(wait=True)\n",
    "        view_action = R\n",
    "        vis_policy = np.array([[policy(ss, aa) for aa in A_RANGE] for ss in S_RANGE])\n",
    "        f = plt.plot(S_RANGE, vis_policy[:,view_action])\n",
    "        plt.show()\n",
    "\n",
    "        \n",
    "    #clear_output(wait=True)\n",
    "    #print(' '.join(map(str, path)))\n",
    "    #print(''.join(['{}: v = {}\\n'.format(s, v[s]) for s in S_RANGE]))\n",
    "\n",
    "    #v = np.sum([[policy(ss, aa)*q(ss, aa) for aa in A_RANGE] for ss in S_RANGE], axis=1)\n",
    "    #f = plt.plot(v)\n",
    "    #plt.show()"
   ]
  },
  {
   "cell_type": "code",
   "execution_count": 69,
   "metadata": {
    "collapsed": false
   },
   "outputs": [
    {
     "name": "stdout",
     "output_type": "stream",
     "text": [
      "0: 2.21368785061\n",
      "1: 2.21368785061\n",
      "2: 2.21368785061\n",
      "3: 1.25827639736\n",
      "4: 1.62402825298\n",
      "5: 2.76924244535\n",
      "6: 1.62402825298\n",
      "7: 1.24785887419\n",
      "\n"
     ]
    },
    {
     "data": {
      "image/png": "[encoded data removed]",
      "text/plain": [
       "<matplotlib.figure.Figure at 0x10f413790>"
      ]
     },
     "metadata": {},
     "output_type": "display_data"
    }
   ],
   "source": [
    "# State values\n",
    "v = np.sum([[policy(ss, aa)*q(ss, aa) for aa in A_RANGE] for ss in S_RANGE], axis=1)\n",
    "print(''.join(['{}: {}\\n'.format(s, v[s]) for s in S_RANGE]))\n",
    "\n",
    "f = plt.plot(v)\n",
    "\n",
    "# Picture\n",
    "# 3 - 4 - 5 - 6 - 7\n",
    "# 0       1       2"
   ]
  },
  {
   "cell_type": "code",
   "execution_count": 70,
   "metadata": {
    "collapsed": false
   },
   "outputs": [
    {
     "data": {
      "image/png": "[encoded data removed]",
      "text/plain": [
       "<matplotlib.figure.Figure at 0x10f3f3650>"
      ]
     },
     "metadata": {},
     "output_type": "display_data"
    }
   ],
   "source": [
    "# Policy\n",
    "\n",
    "view_action = R\n",
    "\n",
    "vis_policy = np.array([[policy(ss, aa) for aa in A_RANGE] for ss in S_RANGE])\n",
    "f = plt.plot(S_RANGE, vis_policy[:,view_action])\n",
    "\n",
    "# Picture\n",
    "# 3 - 4 - 5 - 6 - 7\n",
    "# 0       1       2"
   ]
  },
  {
   "cell_type": "code",
   "execution_count": 72,
   "metadata": {
    "collapsed": false
   },
   "outputs": [
    {
     "data": {
      "text/plain": [
       "0.46440718436058898"
      ]
     },
     "execution_count": 72,
     "metadata": {},
     "output_type": "execute_result"
    }
   ],
   "source": [
    "# Picture\n",
    "# 3 - 4 - 5 - 6 - 7\n",
    "# 0       1       2\n",
    "policy(6, L)"
   ]
  },
  {
   "cell_type": "code",
   "execution_count": null,
   "metadata": {
    "collapsed": true
   },
   "outputs": [],
   "source": []
  }
 ],
 "metadata": {
  "kernelspec": {
   "display_name": "Python 2",
   "language": "python",
   "name": "python2"
  },
  "language_info": {
   "codemirror_mode": {
    "name": "ipython",
    "version": 2
   },
   "file_extension": ".py",
   "mimetype": "text/x-python",
   "name": "python",
   "nbconvert_exporter": "python",
   "pygments_lexer": "ipython2",
   "version": "2.7.11"
  }
 },
 "nbformat": 4,
 "nbformat_minor": 0
}
