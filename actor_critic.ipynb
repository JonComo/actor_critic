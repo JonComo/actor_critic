{
 "cells": [
  {
   "cell_type": "code",
   "execution_count": 1,
   "metadata": {
    "collapsed": true
   },
   "outputs": [],
   "source": [
    "# Actor - policy improvements through parameters t\n",
    "# Critic - q value approximation through parameters w\n",
    "# Bellman - v value approximation through parameters h as sanity check"
   ]
  },
  {
   "cell_type": "code",
   "execution_count": 2,
   "metadata": {
    "collapsed": true
   },
   "outputs": [],
   "source": [
    "%matplotlib inline"
   ]
  },
  {
   "cell_type": "code",
   "execution_count": 3,
   "metadata": {
    "collapsed": true
   },
   "outputs": [],
   "source": [
    "from matplotlib import pyplot as plt\n",
    "import numpy as np\n",
    "from ipywidgets import interact\n",
    "from IPython.display import clear_output"
   ]
  },
  {
   "cell_type": "code",
   "execution_count": 4,
   "metadata": {
    "collapsed": true
   },
   "outputs": [],
   "source": [
    "S = 6\n",
    "A = 2\n",
    "\n",
    "# Link rewards\n",
    "R = np.zeros([S, S])\n",
    "R[2, 3] = 1\n",
    "#R[4, 3] = 1\n",
    "\n",
    "# hyperparams\n",
    "gamma = 0.8"
   ]
  },
  {
   "cell_type": "code",
   "execution_count": 33,
   "metadata": {
    "collapsed": false
   },
   "outputs": [],
   "source": [
    "def perform_action(s, a):\n",
    "    sp = s + (a * 2 - 1)\n",
    "    if sp < 0:\n",
    "        sp = 0\n",
    "    if sp > S-1:\n",
    "        sp = S-1\n",
    "    return sp\n",
    "\n",
    "def reward(s, a):\n",
    "    sp = perform_action(s, a)\n",
    "    return R[s, sp]\n",
    "\n",
    "def features_s(s):\n",
    "    f = np.zeros([S])\n",
    "    f[s] = 1\n",
    "    return f\n",
    "\n",
    "def features(s, a):\n",
    "    f = np.zeros([S, A])\n",
    "    f[s, a] = 1.0\n",
    "    return f\n",
    "\n",
    "def exp_f_t(s, a, t):\n",
    "    f = features(s, a)\n",
    "    return np.exp(np.sum(f * t))\n",
    "\n",
    "def policy(s, a, t):\n",
    "    total = np.sum([exp_f_t(s, aa, t) for aa in range(A)])\n",
    "    return exp_f_t(s, a, t) / total\n",
    "\n",
    "def transition_prob(s, sp, t):\n",
    "    if abs(s-sp) > 1:\n",
    "        return 0\n",
    "    for aa in range(A):\n",
    "        s_test = perform_action(s, aa)\n",
    "        if s_test == sp:\n",
    "            return policy(s, aa, t)\n",
    "    return 0.0\n",
    "\n",
    "def v_approx(s, h):\n",
    "    f = features_s(s)\n",
    "    v = np.sum(f * h)\n",
    "    return v\n",
    "\n",
    "def q_approx(s, a, t):\n",
    "    f = features(s, a)\n",
    "    q = np.sum(f * t)\n",
    "    return q\n",
    "\n",
    "def random_variable(shape):\n",
    "    return np.random.random_sample(shape)\n",
    "\n",
    "def transition_matrix(t):\n",
    "    return np.array([[transition_prob(si, sj, t) for sj in range(S)] for si in range(S)])\n",
    "\n",
    "def visualize_q():\n",
    "    q_left = [q_approx(ss, 0, t) for ss in range(S)]\n",
    "    q_right = [q_approx(ss, 1, t) for ss in range(S)]\n",
    "\n",
    "    fig = plt.plot(range(S), q_left, 'b--', range(S), q_right, 'r--')\n",
    "    plt.grid()\n",
    "    \n",
    "def visualize_policy():\n",
    "    p_left = [policy(ss, 0, t) for ss in range(S)]\n",
    "    p_right = [policy(ss, 1, t) for ss in range(S)]\n",
    "\n",
    "    fig = plt.plot(range(S), p_left, 'b-', range(S), p_right, 'r-')\n",
    "    plt.grid()\n",
    "    \n",
    "# Objective function\n",
    "def J(t):\n",
    "    # calculate probability of being in a given state\n",
    "    T = transition_matrix(t)\n",
    "    T = T.dot(T.dot(T.dot(T.dot(T))))\n",
    "    \n",
    "    start_p = np.full([S], 1.0/S)\n",
    "    \n",
    "    d = T.dot(start_p)\n",
    "    \n",
    "    expected_r = 0.0\n",
    "    for ss in range(S):\n",
    "        for aa in range(A):\n",
    "            expected_r += d[ss] * policy(ss, aa, t) * reward(ss, aa)\n",
    "            \n",
    "    return expected_r"
   ]
  },
  {
   "cell_type": "code",
   "execution_count": 9,
   "metadata": {
    "collapsed": false
   },
   "outputs": [
    {
     "name": "stdout",
     "output_type": "stream",
     "text": [
      "T matrix:\n",
      "\n",
      "[[ 0.41048142  0.58951858  0.          0.          0.          0.        ]\n",
      " [ 0.48035043  0.          0.51964957  0.          0.          0.        ]\n",
      " [ 0.          0.53599218  0.          0.46400782  0.          0.        ]\n",
      " [ 0.          0.          0.54235625  0.          0.45764375  0.        ]\n",
      " [ 0.          0.          0.          0.41895992  0.          0.58104008]\n",
      " [ 0.          0.          0.          0.          0.55302344  0.44697656]]\n",
      "\n",
      "T matrix sum over columns: [ 1.  1.  1.  1.  1.  1.]\n",
      "\n",
      "node rewards: [ 0.          0.          0.46400782  0.          0.          0.        ]\n",
      "\n",
      "bellman values with current policy: [ 0.33  0.47  0.83  0.44  0.22  0.15]\n"
     ]
    }
   ],
   "source": [
    "# Solve for bellman values v, compare with v_approx\n",
    "\n",
    "# Random policy params t\n",
    "\n",
    "t = random_variable([S, A])\n",
    "\n",
    "# Transition matrix\n",
    "T = transition_matrix(t)\n",
    "\n",
    "print('T matrix:\\n\\n{}'.format(T))\n",
    "print('\\nT matrix sum over columns: {}'.format(np.sum(T, axis=1)))\n",
    "\n",
    "# Convert link rewards into node rewards\n",
    "node_R = np.array([np.sum([R[ss, sp] * T[ss, sp] for sp in range(S)]) for ss in range(S)])\n",
    "print('\\nnode rewards: {}'.format(node_R))\n",
    "\n",
    "bellman_v = np.linalg.inv((np.identity(S) - gamma * T)).dot(node_R.T)\n",
    "print('\\nbellman values with current policy: {}'.format(np.round(bellman_v, 2)))"
   ]
  },
  {
   "cell_type": "code",
   "execution_count": 11,
   "metadata": {
    "collapsed": true
   },
   "outputs": [],
   "source": [
    "# Approximate bellman values using current policy\n",
    "\n",
    "# Parameters for value function approximation\n",
    "h = random_variable([S])"
   ]
  },
  {
   "cell_type": "code",
   "execution_count": 18,
   "metadata": {
    "collapsed": false
   },
   "outputs": [
    {
     "name": "stdout",
     "output_type": "stream",
     "text": [
      "approximate v: [0.32683665076564372, 0.46524017781491811, 0.82849235188803161, 0.4443804043228457, 0.22106785618829808, 0.1518156715999672]\n"
     ]
    },
    {
     "data": {
      "image/png": "[encoded data removed]",
      "text/plain": [
       "<matplotlib.figure.Figure at 0x7f2196e14790>"
      ]
     },
     "metadata": {},
     "output_type": "display_data"
    }
   ],
   "source": [
    "# Run steps to approx bellman values\n",
    "\n",
    "for run in range(100):\n",
    "    s = np.random.randint(S)\n",
    "    \n",
    "    for step in range(20):\n",
    "        #a = np.random.choice(range(A), p=[policy(s, aa, t) for aa in range(A)])\n",
    "        \n",
    "        sp = np.random.choice(range(S), p=T[s])\n",
    "        \n",
    "        r = node_R[s]\n",
    "        \n",
    "        delta = (r + gamma * v_approx(sp, h)) - v_approx(s, h)\n",
    "\n",
    "        h_grad = delta * features_s(s)\n",
    "        h += 0.01 * h_grad\n",
    "\n",
    "        s = sp\n",
    "    \n",
    "test_v = [v_approx(ss, h) for ss in range(S)]\n",
    "print('approximate v: {}'.format(test_v))\n",
    "\n",
    "fig = plt.plot(range(S), test_v, 'r-', range(S), bellman_v, 'b-')\n",
    "plt.grid()"
   ]
  },
  {
   "cell_type": "code",
   "execution_count": 41,
   "metadata": {
    "collapsed": false
   },
   "outputs": [],
   "source": [
    "# initialize parameters for q value func approx and policy approx\n",
    "\n",
    "t = random_variable([S, A])\n",
    "w = random_variable([S, A])\n",
    "\n",
    "objective_steps = []"
   ]
  },
  {
   "cell_type": "code",
   "execution_count": 47,
   "metadata": {
    "collapsed": false
   },
   "outputs": [
    {
     "data": {
      "image/png": "[encoded data removed]",
      "text/plain": [
       "<matplotlib.figure.Figure at 0x7f21965ffcd0>"
      ]
     },
     "metadata": {},
     "output_type": "display_data"
    }
   ],
   "source": [
    "for run in range(10):\n",
    "    s = 0\n",
    "    a = np.random.choice(range(A), p=[policy(s, aa, t) for aa in range(A)])\n",
    "    \n",
    "    for step in range(30):\n",
    "        r = reward(s, a)\n",
    "        sp = perform_action(s, a)\n",
    "\n",
    "        ap = np.random.choice(range(A), p=[policy(sp, aa, t) for aa in range(A)])\n",
    "\n",
    "        delta = r + gamma * q_approx(sp, ap, w) - q_approx(s, a, w)\n",
    "\n",
    "        # Calculate t gradient\n",
    "        expected_features = np.zeros([S, A])\n",
    "        for aa in range(A):\n",
    "            expected_features += policy(s, aa, t) * features(s, aa)\n",
    "\n",
    "        t_grad = features(s, a) - expected_features\n",
    "\n",
    "        t = t + 0.1 * t_grad * q_approx(s, a, w)\n",
    "\n",
    "        w = w + 0.1 * delta * features(s, a)\n",
    "\n",
    "        a = ap\n",
    "        s = sp\n",
    "        \n",
    "        objective_steps.append(J(t))\n",
    "\n",
    "        if step % 10 == 0:\n",
    "            clear_output(wait=True)\n",
    "            #visualize_q()\n",
    "            #visualize_policy()\n",
    "            plt.plot(objective_steps)\n",
    "            plt.show()"
   ]
  },
  {
   "cell_type": "code",
   "execution_count": 26,
   "metadata": {
    "collapsed": false
   },
   "outputs": [
    {
     "name": "stdout",
     "output_type": "stream",
     "text": [
      "0\n",
      "1\n",
      "2\n",
      "Reward!\n",
      "3\n",
      "2\n",
      "Reward!\n",
      "3\n",
      "2\n",
      "Reward!\n",
      "3\n",
      "2\n",
      "Reward!\n",
      "3\n",
      "2\n",
      "Reward!\n",
      "3\n",
      "2\n",
      "Reward!\n",
      "3\n",
      "2\n",
      "Reward!\n",
      "3\n",
      "2\n",
      "Reward!\n",
      "3\n",
      "2\n",
      "Reward!\n",
      "3\n"
     ]
    }
   ],
   "source": [
    "# Typical path\n",
    "\n",
    "s = 0\n",
    "a = np.random.choice(range(A), p=[policy(s, aa, t) for aa in range(A)])\n",
    "\n",
    "for step in range(20):\n",
    "    \n",
    "    print(s)\n",
    "    \n",
    "    r = reward(s, a)\n",
    "    \n",
    "    if r:\n",
    "        print('Reward!')\n",
    "    \n",
    "    sp = perform_action(s, a)\n",
    "    \n",
    "    ap = np.random.choice(range(A), p=[policy(sp, aa, t) for aa in range(A)])\n",
    "    \n",
    "    a = ap\n",
    "    s = sp"
   ]
  },
  {
   "cell_type": "code",
   "execution_count": 28,
   "metadata": {
    "collapsed": false
   },
   "outputs": [
    {
     "data": {
      "text/plain": [
       "array([[ 0.25,  0.75,  0.  ,  0.  ,  0.  ,  0.  ],\n",
       "       [ 0.12,  0.  ,  0.88,  0.  ,  0.  ,  0.  ],\n",
       "       [ 0.  ,  0.01,  0.  ,  0.99,  0.  ,  0.  ],\n",
       "       [ 0.  ,  0.  ,  0.99,  0.  ,  0.01,  0.  ],\n",
       "       [ 0.  ,  0.  ,  0.  ,  0.76,  0.  ,  0.24],\n",
       "       [ 0.  ,  0.  ,  0.  ,  0.  ,  0.67,  0.33]])"
      ]
     },
     "execution_count": 28,
     "metadata": {},
     "output_type": "execute_result"
    }
   ],
   "source": [
    "np.round(transition_matrix(t), 2)"
   ]
  },
  {
   "cell_type": "code",
   "execution_count": null,
   "metadata": {
    "collapsed": true
   },
   "outputs": [],
   "source": []
  },
  {
   "cell_type": "code",
   "execution_count": null,
   "metadata": {
    "collapsed": true
   },
   "outputs": [],
   "source": []
  },
  {
   "cell_type": "code",
   "execution_count": null,
   "metadata": {
    "collapsed": true
   },
   "outputs": [],
   "source": []
  },
  {
   "cell_type": "code",
   "execution_count": null,
   "metadata": {
    "collapsed": true
   },
   "outputs": [],
   "source": []
  },
  {
   "cell_type": "code",
   "execution_count": null,
   "metadata": {
    "collapsed": true
   },
   "outputs": [],
   "source": []
  },
  {
   "cell_type": "code",
   "execution_count": null,
   "metadata": {
    "collapsed": true
   },
   "outputs": [],
   "source": []
  },
  {
   "cell_type": "code",
   "execution_count": null,
   "metadata": {
    "collapsed": true
   },
   "outputs": [],
   "source": []
  },
  {
   "cell_type": "code",
   "execution_count": null,
   "metadata": {
    "collapsed": true
   },
   "outputs": [],
   "source": []
  },
  {
   "cell_type": "code",
   "execution_count": null,
   "metadata": {
    "collapsed": true
   },
   "outputs": [],
   "source": []
  },
  {
   "cell_type": "code",
   "execution_count": null,
   "metadata": {
    "collapsed": true
   },
   "outputs": [],
   "source": []
  },
  {
   "cell_type": "code",
   "execution_count": null,
   "metadata": {
    "collapsed": true
   },
   "outputs": [],
   "source": []
  },
  {
   "cell_type": "code",
   "execution_count": null,
   "metadata": {
    "collapsed": true
   },
   "outputs": [],
   "source": []
  },
  {
   "cell_type": "code",
   "execution_count": null,
   "metadata": {
    "collapsed": true
   },
   "outputs": [],
   "source": []
  },
  {
   "cell_type": "code",
   "execution_count": null,
   "metadata": {
    "collapsed": true
   },
   "outputs": [],
   "source": []
  },
  {
   "cell_type": "code",
   "execution_count": null,
   "metadata": {
    "collapsed": true
   },
   "outputs": [],
   "source": []
  },
  {
   "cell_type": "code",
   "execution_count": null,
   "metadata": {
    "collapsed": true
   },
   "outputs": [],
   "source": []
  },
  {
   "cell_type": "code",
   "execution_count": null,
   "metadata": {
    "collapsed": true
   },
   "outputs": [],
   "source": []
  },
  {
   "cell_type": "code",
   "execution_count": null,
   "metadata": {
    "collapsed": true
   },
   "outputs": [],
   "source": []
  }
 ],
 "metadata": {
  "kernelspec": {
   "display_name": "Python 2",
   "language": "python",
   "name": "python2"
  },
  "language_info": {
   "codemirror_mode": {
    "name": "ipython",
    "version": 2
   },
   "file_extension": ".py",
   "mimetype": "text/x-python",
   "name": "python",
   "nbconvert_exporter": "python",
   "pygments_lexer": "ipython2",
   "version": "2.7.11"
  }
 },
 "nbformat": 4,
 "nbformat_minor": 0
}
